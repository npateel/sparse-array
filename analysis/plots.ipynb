{
 "cells": [
  {
   "cell_type": "markdown",
   "metadata": {},
   "source": [
    "# Assignment 1\n",
    "### By Nikhil Pateel\n",
    "\n",
    "This notebook does all of the analysis for the bitvector rank and select, and sparse array code.\n"
   ]
  },
  {
   "cell_type": "markdown",
   "metadata": {},
   "source": [
    "## Implementation details\n",
    "\n",
    "### Project structure and explanation\n",
    "\n",
    "### Challenges\n"
   ]
  },
  {
   "cell_type": "code",
   "execution_count": 2,
   "metadata": {},
   "outputs": [],
   "source": [
    "from matplotlib import pyplot as plt\n",
    "import pandas as pd"
   ]
  },
  {
   "cell_type": "code",
   "execution_count": 27,
   "metadata": {},
   "outputs": [
    {
     "data": {
      "text/html": [
       "<div>\n",
       "<style scoped>\n",
       "    .dataframe tbody tr th:only-of-type {\n",
       "        vertical-align: middle;\n",
       "    }\n",
       "\n",
       "    .dataframe tbody tr th {\n",
       "        vertical-align: top;\n",
       "    }\n",
       "\n",
       "    .dataframe thead th {\n",
       "        text-align: right;\n",
       "    }\n",
       "</style>\n",
       "<table border=\"1\" class=\"dataframe\">\n",
       "  <thead>\n",
       "    <tr style=\"text-align: right;\">\n",
       "      <th></th>\n",
       "      <th>n</th>\n",
       "      <th>rank_time</th>\n",
       "      <th>select_time</th>\n",
       "      <th>overhead</th>\n",
       "    </tr>\n",
       "  </thead>\n",
       "  <tbody>\n",
       "    <tr>\n",
       "      <th>0</th>\n",
       "      <td>100</td>\n",
       "      <td>0.007130</td>\n",
       "      <td>0.042490</td>\n",
       "      <td>126</td>\n",
       "    </tr>\n",
       "    <tr>\n",
       "      <th>1</th>\n",
       "      <td>500</td>\n",
       "      <td>0.007140</td>\n",
       "      <td>0.054919</td>\n",
       "      <td>504</td>\n",
       "    </tr>\n",
       "    <tr>\n",
       "      <th>2</th>\n",
       "      <td>2500</td>\n",
       "      <td>0.007000</td>\n",
       "      <td>0.072840</td>\n",
       "      <td>1728</td>\n",
       "    </tr>\n",
       "    <tr>\n",
       "      <th>3</th>\n",
       "      <td>12500</td>\n",
       "      <td>0.007040</td>\n",
       "      <td>0.085329</td>\n",
       "      <td>7168</td>\n",
       "    </tr>\n",
       "    <tr>\n",
       "      <th>4</th>\n",
       "      <td>62500</td>\n",
       "      <td>0.006510</td>\n",
       "      <td>0.097010</td>\n",
       "      <td>39200</td>\n",
       "    </tr>\n",
       "    <tr>\n",
       "      <th>5</th>\n",
       "      <td>312500</td>\n",
       "      <td>0.007230</td>\n",
       "      <td>0.118079</td>\n",
       "      <td>164540</td>\n",
       "    </tr>\n",
       "    <tr>\n",
       "      <th>6</th>\n",
       "      <td>1562500</td>\n",
       "      <td>0.007780</td>\n",
       "      <td>0.130769</td>\n",
       "      <td>744240</td>\n",
       "    </tr>\n",
       "    <tr>\n",
       "      <th>7</th>\n",
       "      <td>7812500</td>\n",
       "      <td>0.007950</td>\n",
       "      <td>0.145749</td>\n",
       "      <td>3396870</td>\n",
       "    </tr>\n",
       "    <tr>\n",
       "      <th>8</th>\n",
       "      <td>39062500</td>\n",
       "      <td>0.008590</td>\n",
       "      <td>0.162869</td>\n",
       "      <td>15024100</td>\n",
       "    </tr>\n",
       "    <tr>\n",
       "      <th>9</th>\n",
       "      <td>195312500</td>\n",
       "      <td>0.017440</td>\n",
       "      <td>0.173989</td>\n",
       "      <td>69754720</td>\n",
       "    </tr>\n",
       "    <tr>\n",
       "      <th>10</th>\n",
       "      <td>976562500</td>\n",
       "      <td>0.028179</td>\n",
       "      <td>0.191259</td>\n",
       "      <td>325521000</td>\n",
       "    </tr>\n",
       "    <tr>\n",
       "      <th>11</th>\n",
       "      <td>4882812500</td>\n",
       "      <td>0.038279</td>\n",
       "      <td>0.214649</td>\n",
       "      <td>1766601046</td>\n",
       "    </tr>\n",
       "    <tr>\n",
       "      <th>12</th>\n",
       "      <td>24414062500</td>\n",
       "      <td>0.040270</td>\n",
       "      <td>0.237359</td>\n",
       "      <td>8250956658</td>\n",
       "    </tr>\n",
       "  </tbody>\n",
       "</table>\n",
       "</div>"
      ],
      "text/plain": [
       "              n  rank_time  select_time    overhead\n",
       "0           100   0.007130     0.042490         126\n",
       "1           500   0.007140     0.054919         504\n",
       "2          2500   0.007000     0.072840        1728\n",
       "3         12500   0.007040     0.085329        7168\n",
       "4         62500   0.006510     0.097010       39200\n",
       "5        312500   0.007230     0.118079      164540\n",
       "6       1562500   0.007780     0.130769      744240\n",
       "7       7812500   0.007950     0.145749     3396870\n",
       "8      39062500   0.008590     0.162869    15024100\n",
       "9     195312500   0.017440     0.173989    69754720\n",
       "10    976562500   0.028179     0.191259   325521000\n",
       "11   4882812500   0.038279     0.214649  1766601046\n",
       "12  24414062500   0.040270     0.237359  8250956658"
      ]
     },
     "execution_count": 27,
     "metadata": {},
     "output_type": "execute_result"
    }
   ],
   "source": [
    "bitvector_data = pd.read_csv(\"rank_simple.csv\")\n",
    "bitvector_data"
   ]
  },
  {
   "cell_type": "code",
   "execution_count": null,
   "metadata": {},
   "outputs": [],
   "source": []
  },
  {
   "cell_type": "code",
   "execution_count": 33,
   "metadata": {},
   "outputs": [
    {
     "data": {
      "image/png": "[encoded data removed]",
      "text/plain": [
       "<Figure size 432x288 with 2 Axes>"
      ]
     },
     "metadata": {
      "needs_background": "light"
     },
     "output_type": "display_data"
    }
   ],
   "source": [
    "fig, ax = plt.subplots()\n",
    "ax.set_xlabel('Size of bitvector (bits)')\n",
    "ax.set_ylabel('Time for 100 rank1 operations (ms)')\n",
    "ax.loglog(bitvector_data['n'], bitvector_data['rank_time'],color='red')\n",
    "ax.set_title('Bitvector rank and select times')\n",
    "ax.set_aspect('equal')\n",
    "selectax = ax.twinx()\n",
    "selectax.set_ylabel('Time for 100 select operations (ms)')\n",
    "selectax.loglog(bitvector_data['n'], bitvector_data['select_time'], color='blue')\n",
    "selectax.set_aspect('equal')\n",
    "fig.show()"
   ]
  },
  {
   "cell_type": "code",
   "execution_count": 34,
   "metadata": {},
   "outputs": [
    {
     "data": {
      "image/png": "[encoded data removed]",
      "text/plain": [
       "<Figure size 432x288 with 1 Axes>"
      ]
     },
     "metadata": {
      "needs_background": "light"
     },
     "output_type": "display_data"
    }
   ],
   "source": [
    "fig, ax = plt.subplots()\n",
    "ax.set_xlabel('Size of bitvector (bits)')\n",
    "ax.set_ylabel('Overhead (bits)')\n",
    "ax.loglog(bitvector_data['n'], bitvector_data['overhead'],color='red')\n",
    "ax.set_aspect('equal')\n",
    "\n"
   ]
  },
  {
   "cell_type": "code",
   "execution_count": null,
   "metadata": {},
   "outputs": [],
   "source": []
  }
 ],
 "metadata": {
  "interpreter": {
   "hash": "4a2a5e6c9649b32ab00dfb74e9dbe9de98c96dbef10825518874f61116878936"
  },
  "kernelspec": {
   "display_name": "Python 3.9.5 ('base')",
   "language": "python",
   "name": "python3"
  },
  "language_info": {
   "codemirror_mode": {
    "name": "ipython",
    "version": 3
   },
   "file_extension": ".py",
   "mimetype": "text/x-python",
   "name": "python",
   "nbconvert_exporter": "python",
   "pygments_lexer": "ipython3",
   "version": "3.9.5"
  },
  "orig_nbformat": 4
 },
 "nbformat": 4,
 "nbformat_minor": 2
}
